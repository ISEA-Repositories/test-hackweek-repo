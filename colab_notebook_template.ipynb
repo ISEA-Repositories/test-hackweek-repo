{
  "nbformat": 4,
  "nbformat_minor": 0,
  "metadata": {
    "colab": {
      "provenance": [],
      "authorship_tag": "ABX9TyPfi0jsk7DpNde5WeYg83TO",
      "include_colab_link": true
    },
    "kernelspec": {
      "name": "python3",
      "display_name": "Python 3"
    },
    "language_info": {
      "name": "python"
    }
  },
  "cells": [
    {
      "cell_type": "markdown",
      "metadata": {
        "id": "view-in-github",
        "colab_type": "text"
      },
      "source": [
        "<a href=\"https://colab.research.google.com/github/ISEA-Repositories/test-hackweek-repo/blob/main/colab_notebook_template.ipynb\" target=\"_parent\"><img src=\"https://colab.research.google.com/assets/colab-badge.svg\" alt=\"Open In Colab\"/></a>"
      ]
    },
    {
      "cell_type": "code",
      "source": [
        "# Generate a new SSH key pair\n",
        "!ssh-keygen -t rsa -b 4096 -C \"ss288@uw.edu\" -f /content/ssh_key -N \"\""
      ],
      "metadata": {
        "colab": {
          "base_uri": "https://localhost:8080/"
        },
        "id": "-UN5AddWlz_d",
        "outputId": "95708df2-67be-4ee9-fa43-63b5a351cb31"
      },
      "execution_count": 18,
      "outputs": [
        {
          "output_type": "stream",
          "name": "stdout",
          "text": [
            "Generating public/private rsa key pair.\n",
            "Your identification has been saved in /content/ssh_key\n",
            "Your public key has been saved in /content/ssh_key.pub\n",
            "The key fingerprint is:\n",
            "SHA256:XmWUXugN7ZPU0d5z+IWxpoasHNEpWiIOSXtj15O3biQ ss288@uw.edu\n",
            "The key's randomart image is:\n",
            "+---[RSA 4096]----+\n",
            "|            .+ oo|\n",
            "|  .        .+ = o|\n",
            "| . o   . o +o* B.|\n",
            "|  + = o B +oo X.=|\n",
            "|   = + +S*.o o o+|\n",
            "|    . ..E.= o   .|\n",
            "|       ..* .     |\n",
            "|        o o      |\n",
            "|         .       |\n",
            "+----[SHA256]-----+\n"
          ]
        }
      ]
    },
    {
      "cell_type": "code",
      "source": [
        "# Display the public key\n",
        "!cat /content/ssh_key.pub"
      ],
      "metadata": {
        "colab": {
          "base_uri": "https://localhost:8080/"
        },
        "id": "b7lDWiB-rXIg",
        "outputId": "8dc2a980-bb2b-4861-a673-6ec3b9958a7a"
      },
      "execution_count": 20,
      "outputs": [
        {
          "output_type": "stream",
          "name": "stdout",
          "text": [
            "ssh-rsa AAAAB3NzaC1yc2EAAAADAQABAAACAQCMMjVyL6SnYienZ2EMQsnoEPfrW4o4j8mqc1pZxa9AIYIBj0GhAcJUPkd0HJ2yHxWU0+MKtdwEu0lhL5HVNAH4FuNK1wE7bXv9S9dFDuf5SIuvbY3p7Rq0TKYoiwNuQavVxlkDfIdMLeAQmoXRF7beH1OKHe7S+HlCiHfjKijsuKt4XjJyuRvpdgq1ux+igk7sbI43EZ343DWB+OcKDqrd+Of+X/frbvS9RlsINT9nmWGvVLEy8AmkElwMN5//3N+Iy6c6pbpOMBkV0UXtrY5IxbV/V0114uOaM3yEfzVeqCdn2VFooO+OW2rctVKjNVECY9cMUG+OSwBc1reQtchAhWk86HJMOUm/1ZWFYsthnCnwI5LztmIrM+05oYweYMlt3f5QJTD3FNU7vKlHUKq6sFd0AiIq837gMQOM9b8tXtvxLpz8M1/uEi7NCMDMyHxlk8mz5F8wqI7Ja0mGKWZVjeWVrTFbQyuq2MrkYGMm5m1cifiQHGPlF0/qbzi3u0iKkzffmM1rd35IWGxFZ53XWpr2Se2gl860Ut+7/eYuE9wE+ta02JYgPgFsnxUQwAiTlxnvK60y5/VKLGs5uB4l4NR4ZgLoGoN8W+tDm46pAVAOhKVm6AhqmUxC6xZA+0NHqee6nlGG7X3m6vKqf38HsdfTquAZGKRmvOljg4HqKQ== ss288@uw.edu\n"
          ]
        }
      ]
    },
    {
      "cell_type": "code",
      "source": [
        "!pip install keyring\n",
        "import keyring"
      ],
      "metadata": {
        "id": "eYWqlUBwtmmw"
      },
      "execution_count": null,
      "outputs": []
    },
    {
      "cell_type": "code",
      "source": [
        "# Start the SSH agent and add the SSH key\n",
        "!eval `ssh-agent -s` && ssh-add /content/ssh_key"
      ],
      "metadata": {
        "colab": {
          "base_uri": "https://localhost:8080/"
        },
        "id": "xPuayTR7tb6Z",
        "outputId": "79050ebf-787a-46ea-fbad-3513dd50e0ca"
      },
      "execution_count": 38,
      "outputs": [
        {
          "output_type": "stream",
          "name": "stdout",
          "text": [
            "Agent pid 12192\n",
            "Identity added: /content/ssh_key (ss288@uw.edu)\n"
          ]
        }
      ]
    },
    {
      "cell_type": "code",
      "source": [
        "agent_output = !eval `ssh-agent -s`\n",
        "print(agent_output)"
      ],
      "metadata": {
        "colab": {
          "base_uri": "https://localhost:8080/"
        },
        "id": "NmFs4SUOujjM",
        "outputId": "19b84c81-6530-4eb7-c322-f13383414cbc"
      },
      "execution_count": 40,
      "outputs": [
        {
          "output_type": "stream",
          "name": "stdout",
          "text": [
            "['Agent pid 12220']\n"
          ]
        }
      ]
    },
    {
      "cell_type": "code",
      "source": [
        "import re\n",
        "agent_pid = re.search(r'Agent pid (\\d+)', agent_output[0]).group(1)\n",
        "agent_pid"
      ],
      "metadata": {
        "colab": {
          "base_uri": "https://localhost:8080/",
          "height": 35
        },
        "id": "dE_GsO5bulpu",
        "outputId": "6f55569e-18db-4177-fa68-838ac31878de"
      },
      "execution_count": 44,
      "outputs": [
        {
          "output_type": "execute_result",
          "data": {
            "text/plain": [
              "'12220'"
            ],
            "application/vnd.google.colaboratory.intrinsic+json": {
              "type": "string"
            }
          },
          "metadata": {},
          "execution_count": 44
        }
      ]
    },
    {
      "cell_type": "code",
      "source": [
        "import os\n",
        "\n",
        "# Assuming the agent's PID is extracted to `agent_pid`\n",
        "os.environ['SSH_AUTH_SOCK'] = f\"/tmp/ssh-{agent_pid}/agent.{agent_pid}\"\n",
        "os.environ['SSH_AGENT_PID'] = str(agent_pid)\n",
        "\n",
        "# Check if the SSH agent has the key loaded\n",
        "!ssh-add -L"
      ],
      "metadata": {
        "colab": {
          "base_uri": "https://localhost:8080/"
        },
        "id": "zM9NlYImu8eN",
        "outputId": "3180583b-c56b-4398-c0ec-9b7244ee60a6"
      },
      "execution_count": 45,
      "outputs": [
        {
          "output_type": "stream",
          "name": "stdout",
          "text": [
            "Error connecting to agent: No such file or directory\n"
          ]
        }
      ]
    },
    {
      "cell_type": "code",
      "source": [
        "# Add your private key to the SSH agent\n",
        "!ssh-add /content/ssh_key"
      ],
      "metadata": {
        "colab": {
          "base_uri": "https://localhost:8080/"
        },
        "id": "N7EV3_h7uq5X",
        "outputId": "20cf3dca-1bea-419a-89aa-540be9572789"
      },
      "execution_count": 42,
      "outputs": [
        {
          "output_type": "stream",
          "name": "stdout",
          "text": [
            "Could not open a connection to your authentication agent.\n"
          ]
        }
      ]
    },
    {
      "cell_type": "code",
      "source": [
        "!ssh -T git@github.com -o \"StrictHostKeyChecking=no\""
      ],
      "metadata": {
        "colab": {
          "base_uri": "https://localhost:8080/"
        },
        "id": "NManCKDzt7w_",
        "outputId": "e6e0d84d-c480-4bd1-f03d-c77580e32ddb"
      },
      "execution_count": 46,
      "outputs": [
        {
          "output_type": "stream",
          "name": "stdout",
          "text": [
            "git@github.com: Permission denied (publickey).\r\n"
          ]
        }
      ]
    },
    {
      "cell_type": "code",
      "source": [
        "!ssh -o \"StrictHostKeyChecking=no\" -T git@github.com"
      ],
      "metadata": {
        "colab": {
          "base_uri": "https://localhost:8080/"
        },
        "id": "eAtTty-ptNNr",
        "outputId": "6b6ab4a6-6583-49b2-f797-02d1b8dff1e5"
      },
      "execution_count": 29,
      "outputs": [
        {
          "output_type": "stream",
          "name": "stdout",
          "text": [
            "git@github.com: Permission denied (publickey).\r\n"
          ]
        }
      ]
    },
    {
      "cell_type": "code",
      "source": [
        "!ssh -T git@github.com"
      ],
      "metadata": {
        "colab": {
          "base_uri": "https://localhost:8080/"
        },
        "id": "1t9g28Kgr-yJ",
        "outputId": "80f2851c-5af7-4161-ad5d-92d5cb1a4eb8"
      },
      "execution_count": 27,
      "outputs": [
        {
          "output_type": "stream",
          "name": "stdout",
          "text": [
            "git@github.com: Permission denied (publickey).\r\n"
          ]
        }
      ]
    },
    {
      "cell_type": "code",
      "source": [
        "!GIT_SSH_COMMAND=\"ssh -i /content/ssh_key -o UserKnownHostsFile=/dev/null -o StrictHostKeyChecking=no\" git clone git@github.com:ISEA-Repositories/test-hackweek-repo.git"
      ],
      "metadata": {
        "colab": {
          "base_uri": "https://localhost:8080/"
        },
        "id": "-Z1LXzZysdOL",
        "outputId": "9fe11a1c-ac9a-4c9b-84c0-a90d74c3faee"
      },
      "execution_count": 79,
      "outputs": [
        {
          "output_type": "stream",
          "name": "stdout",
          "text": [
            "Cloning into 'test-hackweek-repo'...\n",
            "Warning: Permanently added 'github.com' (ED25519) to the list of known hosts.\n",
            "remote: Enumerating objects: 27, done.\u001b[K\n",
            "remote: Counting objects: 100% (27/27), done.\u001b[K\n",
            "remote: Compressing objects: 100% (19/19), done.\u001b[K\n",
            "remote: Total 27 (delta 4), reused 21 (delta 2), pack-reused 0\u001b[K\n",
            "Receiving objects: 100% (27/27), 26.12 KiB | 4.35 MiB/s, done.\n",
            "Resolving deltas: 100% (4/4), done.\n"
          ]
        }
      ]
    },
    {
      "cell_type": "code",
      "source": [
        "os.chdir('/content/test-hackweek-repo/notebooks/test-hackweek-repo')"
      ],
      "metadata": {
        "id": "uJZjGFH9qP1s"
      },
      "execution_count": 88,
      "outputs": []
    },
    {
      "cell_type": "code",
      "source": [
        "!ls"
      ],
      "metadata": {
        "colab": {
          "base_uri": "https://localhost:8080/"
        },
        "id": "QmyYBAbfwC8t",
        "outputId": "d66de52f-789a-4f03-9c87-e088824ab144"
      },
      "execution_count": 81,
      "outputs": [
        {
          "output_type": "stream",
          "name": "stdout",
          "text": [
            "contributors  data  environment.yml  LICENSE  model-card.md  notebooks\tREADME.md  scripts\n"
          ]
        }
      ]
    },
    {
      "cell_type": "code",
      "source": [
        "%cd notebooks"
      ],
      "metadata": {
        "colab": {
          "base_uri": "https://localhost:8080/"
        },
        "id": "ftqzsGnCyqrB",
        "outputId": "d1db59cf-ba23-43b6-eecf-765fe7709d7a"
      },
      "execution_count": 82,
      "outputs": [
        {
          "output_type": "stream",
          "name": "stdout",
          "text": [
            "/content/test-hackweek-repo/notebooks/test-hackweek-repo/notebooks\n"
          ]
        }
      ]
    },
    {
      "cell_type": "code",
      "source": [
        "!ls -l"
      ],
      "metadata": {
        "colab": {
          "base_uri": "https://localhost:8080/"
        },
        "id": "S9-ruPVoyulD",
        "outputId": "43de5c90-df59-480a-8d47-94cffa9ee401"
      },
      "execution_count": 83,
      "outputs": [
        {
          "output_type": "stream",
          "name": "stdout",
          "text": [
            "total 24\n",
            "-rw-r--r-- 1 root root 17102 Jul  4 08:30 build_topic_models.ipynb\n",
            "-rw-r--r-- 1 root root   493 Jul  4 08:30 project_result_1.ipynb\n"
          ]
        }
      ]
    },
    {
      "cell_type": "code",
      "source": [
        "from google.colab import files\n",
        "files.view('build_topic_models.ipynb')"
      ],
      "metadata": {
        "colab": {
          "base_uri": "https://localhost:8080/",
          "height": 17
        },
        "id": "I1CK0jQ30HhF",
        "outputId": "bc0fbd8e-15f8-4e2a-c28b-eedf13369371"
      },
      "execution_count": 86,
      "outputs": [
        {
          "output_type": "display_data",
          "data": {
            "text/plain": [
              "<IPython.core.display.Javascript object>"
            ],
            "application/javascript": [
              "\n",
              "      ((filepath) => {{\n",
              "        if (!google.colab.kernel.accessAllowed) {{\n",
              "          return;\n",
              "        }}\n",
              "        google.colab.files.view(filepath);\n",
              "      }})(\"/content/test-hackweek-repo/notebooks/test-hackweek-repo/notebooks/build_topic_models.ipynb\")"
            ]
          },
          "metadata": {}
        }
      ]
    },
    {
      "cell_type": "code",
      "source": [
        "%run build_topic_models.ipynb"
      ],
      "metadata": {
        "id": "GYlo_VsT1Fnr"
      },
      "execution_count": null,
      "outputs": []
    },
    {
      "cell_type": "code",
      "source": [
        "import pandas as pd"
      ],
      "metadata": {
        "id": "wPT6V7gM5eU6"
      },
      "execution_count": 89,
      "outputs": []
    },
    {
      "cell_type": "code",
      "source": [
        "data = pd.read_excel('/content/test-hackweek-repo/notebooks/test-hackweek-repo/data/colleague_ai.xlsx')"
      ],
      "metadata": {
        "id": "93E0KgR76bOf"
      },
      "execution_count": 92,
      "outputs": []
    },
    {
      "cell_type": "code",
      "source": [
        "data.shape"
      ],
      "metadata": {
        "colab": {
          "base_uri": "https://localhost:8080/"
        },
        "id": "iOEYNi9h6yLk",
        "outputId": "1f9fa2a5-ae18-4f4c-a484-2a21f8a28bd4"
      },
      "execution_count": 93,
      "outputs": [
        {
          "output_type": "execute_result",
          "data": {
            "text/plain": [
              "(1, 18)"
            ]
          },
          "metadata": {},
          "execution_count": 93
        }
      ]
    },
    {
      "cell_type": "code",
      "source": [
        "data.head(2)"
      ],
      "metadata": {
        "colab": {
          "base_uri": "https://localhost:8080/",
          "height": 343
        },
        "id": "pUk0xqCw60ZG",
        "outputId": "418cdffa-1746-412e-8d20-68010f777674"
      },
      "execution_count": 94,
      "outputs": [
        {
          "output_type": "execute_result",
          "data": {
            "text/plain": [
              "                Timestamp          Proposed project title  \\\n",
              "0 2024-04-26 11:32:40.956  Colleague's User Data Analysis   \n",
              "\n",
              "  Sponsor Organization Name           Sponsor Type (check all apply)  \\\n",
              "0              Colleague.AI  Higher Education, Technology Industrial   \n",
              "\n",
              "  Sponsor Liaison (Project Ambassador who can coordinate logistics and legal)  \\\n",
              "0                                            Min Sun                            \n",
              "\n",
              "  Email Address (Liaison)  Phone Number (Liaison)  \\\n",
              "0            misun@uw.edu              2062211625   \n",
              "\n",
              "  Sponsor Technical Lead (Project mentor who can offer guidance to fellows about the project requirements)  \\\n",
              "0                                      Shawon Sarkar                                                         \n",
              "\n",
              "  Email Address (Technical Lead)  Phone Number (Technical Lead)  \\\n",
              "0                  ss288@uw.edu                             NaN   \n",
              "\n",
              "                       Project Description and Scope  \\\n",
              "0  Colleague.AI is an AI-powered assistant for ma...   \n",
              "\n",
              "  Desired Outcomes and Deliverables (Non-confidential)  Unnamed: 12  \\\n",
              "0  1. identify research questions of analyzing us...            NaN   \n",
              "\n",
              "   Unnamed: 13  Unnamed: 14  \\\n",
              "0          NaN          NaN   \n",
              "\n",
              "            Min's Notes after Meetings with Sponsors  \\\n",
              "0  Two ideas offered and would like to work with ...   \n",
              "\n",
              "                     Stage 2, Fellow sign up (Names)  Total Members  \n",
              "0  Ed Seryozhenkov, Tori Jesse, Kimberly Williams...              4  "
            ],
            "text/html": [
              "\n",
              "  <div id=\"df-4fb955e3-b593-40d4-8787-0eb3dfbd3f36\" class=\"colab-df-container\">\n",
              "    <div>\n",
              "<style scoped>\n",
              "    .dataframe tbody tr th:only-of-type {\n",
              "        vertical-align: middle;\n",
              "    }\n",
              "\n",
              "    .dataframe tbody tr th {\n",
              "        vertical-align: top;\n",
              "    }\n",
              "\n",
              "    .dataframe thead th {\n",
              "        text-align: right;\n",
              "    }\n",
              "</style>\n",
              "<table border=\"1\" class=\"dataframe\">\n",
              "  <thead>\n",
              "    <tr style=\"text-align: right;\">\n",
              "      <th></th>\n",
              "      <th>Timestamp</th>\n",
              "      <th>Proposed project title</th>\n",
              "      <th>Sponsor Organization Name</th>\n",
              "      <th>Sponsor Type (check all apply)</th>\n",
              "      <th>Sponsor Liaison (Project Ambassador who can coordinate logistics and legal)</th>\n",
              "      <th>Email Address (Liaison)</th>\n",
              "      <th>Phone Number (Liaison)</th>\n",
              "      <th>Sponsor Technical Lead (Project mentor who can offer guidance to fellows about the project requirements)</th>\n",
              "      <th>Email Address (Technical Lead)</th>\n",
              "      <th>Phone Number (Technical Lead)</th>\n",
              "      <th>Project Description and Scope</th>\n",
              "      <th>Desired Outcomes and Deliverables (Non-confidential)</th>\n",
              "      <th>Unnamed: 12</th>\n",
              "      <th>Unnamed: 13</th>\n",
              "      <th>Unnamed: 14</th>\n",
              "      <th>Min's Notes after Meetings with Sponsors</th>\n",
              "      <th>Stage 2, Fellow sign up (Names)</th>\n",
              "      <th>Total Members</th>\n",
              "    </tr>\n",
              "  </thead>\n",
              "  <tbody>\n",
              "    <tr>\n",
              "      <th>0</th>\n",
              "      <td>2024-04-26 11:32:40.956</td>\n",
              "      <td>Colleague's User Data Analysis</td>\n",
              "      <td>Colleague.AI</td>\n",
              "      <td>Higher Education, Technology Industrial</td>\n",
              "      <td>Min Sun</td>\n",
              "      <td>misun@uw.edu</td>\n",
              "      <td>2062211625</td>\n",
              "      <td>Shawon Sarkar</td>\n",
              "      <td>ss288@uw.edu</td>\n",
              "      <td>NaN</td>\n",
              "      <td>Colleague.AI is an AI-powered assistant for ma...</td>\n",
              "      <td>1. identify research questions of analyzing us...</td>\n",
              "      <td>NaN</td>\n",
              "      <td>NaN</td>\n",
              "      <td>NaN</td>\n",
              "      <td>Two ideas offered and would like to work with ...</td>\n",
              "      <td>Ed Seryozhenkov, Tori Jesse, Kimberly Williams...</td>\n",
              "      <td>4</td>\n",
              "    </tr>\n",
              "  </tbody>\n",
              "</table>\n",
              "</div>\n",
              "    <div class=\"colab-df-buttons\">\n",
              "\n",
              "  <div class=\"colab-df-container\">\n",
              "    <button class=\"colab-df-convert\" onclick=\"convertToInteractive('df-4fb955e3-b593-40d4-8787-0eb3dfbd3f36')\"\n",
              "            title=\"Convert this dataframe to an interactive table.\"\n",
              "            style=\"display:none;\">\n",
              "\n",
              "  <svg xmlns=\"http://www.w3.org/2000/svg\" height=\"24px\" viewBox=\"0 -960 960 960\">\n",
              "    <path d=\"M120-120v-720h720v720H120Zm60-500h600v-160H180v160Zm220 220h160v-160H400v160Zm0 220h160v-160H400v160ZM180-400h160v-160H180v160Zm440 0h160v-160H620v160ZM180-180h160v-160H180v160Zm440 0h160v-160H620v160Z\"/>\n",
              "  </svg>\n",
              "    </button>\n",
              "\n",
              "  <style>\n",
              "    .colab-df-container {\n",
              "      display:flex;\n",
              "      gap: 12px;\n",
              "    }\n",
              "\n",
              "    .colab-df-convert {\n",
              "      background-color: #E8F0FE;\n",
              "      border: none;\n",
              "      border-radius: 50%;\n",
              "      cursor: pointer;\n",
              "      display: none;\n",
              "      fill: #1967D2;\n",
              "      height: 32px;\n",
              "      padding: 0 0 0 0;\n",
              "      width: 32px;\n",
              "    }\n",
              "\n",
              "    .colab-df-convert:hover {\n",
              "      background-color: #E2EBFA;\n",
              "      box-shadow: 0px 1px 2px rgba(60, 64, 67, 0.3), 0px 1px 3px 1px rgba(60, 64, 67, 0.15);\n",
              "      fill: #174EA6;\n",
              "    }\n",
              "\n",
              "    .colab-df-buttons div {\n",
              "      margin-bottom: 4px;\n",
              "    }\n",
              "\n",
              "    [theme=dark] .colab-df-convert {\n",
              "      background-color: #3B4455;\n",
              "      fill: #D2E3FC;\n",
              "    }\n",
              "\n",
              "    [theme=dark] .colab-df-convert:hover {\n",
              "      background-color: #434B5C;\n",
              "      box-shadow: 0px 1px 3px 1px rgba(0, 0, 0, 0.15);\n",
              "      filter: drop-shadow(0px 1px 2px rgba(0, 0, 0, 0.3));\n",
              "      fill: #FFFFFF;\n",
              "    }\n",
              "  </style>\n",
              "\n",
              "    <script>\n",
              "      const buttonEl =\n",
              "        document.querySelector('#df-4fb955e3-b593-40d4-8787-0eb3dfbd3f36 button.colab-df-convert');\n",
              "      buttonEl.style.display =\n",
              "        google.colab.kernel.accessAllowed ? 'block' : 'none';\n",
              "\n",
              "      async function convertToInteractive(key) {\n",
              "        const element = document.querySelector('#df-4fb955e3-b593-40d4-8787-0eb3dfbd3f36');\n",
              "        const dataTable =\n",
              "          await google.colab.kernel.invokeFunction('convertToInteractive',\n",
              "                                                    [key], {});\n",
              "        if (!dataTable) return;\n",
              "\n",
              "        const docLinkHtml = 'Like what you see? Visit the ' +\n",
              "          '<a target=\"_blank\" href=https://colab.research.google.com/notebooks/data_table.ipynb>data table notebook</a>'\n",
              "          + ' to learn more about interactive tables.';\n",
              "        element.innerHTML = '';\n",
              "        dataTable['output_type'] = 'display_data';\n",
              "        await google.colab.output.renderOutput(dataTable, element);\n",
              "        const docLink = document.createElement('div');\n",
              "        docLink.innerHTML = docLinkHtml;\n",
              "        element.appendChild(docLink);\n",
              "      }\n",
              "    </script>\n",
              "  </div>\n",
              "\n",
              "\n",
              "    </div>\n",
              "  </div>\n"
            ],
            "application/vnd.google.colaboratory.intrinsic+json": {
              "type": "dataframe",
              "variable_name": "data",
              "summary": "{\n  \"name\": \"data\",\n  \"rows\": 1,\n  \"fields\": [\n    {\n      \"column\": \"Timestamp\",\n      \"properties\": {\n        \"dtype\": \"date\",\n        \"min\": \"2024-04-26 11:32:40.956000\",\n        \"max\": \"2024-04-26 11:32:40.956000\",\n        \"num_unique_values\": 1,\n        \"samples\": [\n          \"2024-04-26 11:32:40.956000\"\n        ],\n        \"semantic_type\": \"\",\n        \"description\": \"\"\n      }\n    },\n    {\n      \"column\": \"Proposed project title\",\n      \"properties\": {\n        \"dtype\": \"string\",\n        \"num_unique_values\": 1,\n        \"samples\": [\n          \"Colleague's User Data Analysis\"\n        ],\n        \"semantic_type\": \"\",\n        \"description\": \"\"\n      }\n    },\n    {\n      \"column\": \"Sponsor Organization Name\",\n      \"properties\": {\n        \"dtype\": \"string\",\n        \"num_unique_values\": 1,\n        \"samples\": [\n          \"Colleague.AI\"\n        ],\n        \"semantic_type\": \"\",\n        \"description\": \"\"\n      }\n    },\n    {\n      \"column\": \"Sponsor Type (check all apply)\",\n      \"properties\": {\n        \"dtype\": \"string\",\n        \"num_unique_values\": 1,\n        \"samples\": [\n          \"Higher Education, Technology Industrial\"\n        ],\n        \"semantic_type\": \"\",\n        \"description\": \"\"\n      }\n    },\n    {\n      \"column\": \"Sponsor Liaison (Project Ambassador who can coordinate logistics and legal)\",\n      \"properties\": {\n        \"dtype\": \"string\",\n        \"num_unique_values\": 1,\n        \"samples\": [\n          \"Min Sun\"\n        ],\n        \"semantic_type\": \"\",\n        \"description\": \"\"\n      }\n    },\n    {\n      \"column\": \"Email Address (Liaison)\",\n      \"properties\": {\n        \"dtype\": \"string\",\n        \"num_unique_values\": 1,\n        \"samples\": [\n          \"misun@uw.edu\"\n        ],\n        \"semantic_type\": \"\",\n        \"description\": \"\"\n      }\n    },\n    {\n      \"column\": \"Phone Number (Liaison)\",\n      \"properties\": {\n        \"dtype\": \"number\",\n        \"std\": null,\n        \"min\": 2062211625,\n        \"max\": 2062211625,\n        \"num_unique_values\": 1,\n        \"samples\": [\n          2062211625\n        ],\n        \"semantic_type\": \"\",\n        \"description\": \"\"\n      }\n    },\n    {\n      \"column\": \"Sponsor Technical Lead (Project mentor who can offer guidance to fellows about the project requirements)\",\n      \"properties\": {\n        \"dtype\": \"string\",\n        \"num_unique_values\": 1,\n        \"samples\": [\n          \"Shawon Sarkar\"\n        ],\n        \"semantic_type\": \"\",\n        \"description\": \"\"\n      }\n    },\n    {\n      \"column\": \"Email Address (Technical Lead)\",\n      \"properties\": {\n        \"dtype\": \"string\",\n        \"num_unique_values\": 1,\n        \"samples\": [\n          \"ss288@uw.edu \"\n        ],\n        \"semantic_type\": \"\",\n        \"description\": \"\"\n      }\n    },\n    {\n      \"column\": \"Phone Number (Technical Lead)\",\n      \"properties\": {\n        \"dtype\": \"number\",\n        \"std\": null,\n        \"min\": null,\n        \"max\": null,\n        \"num_unique_values\": 0,\n        \"samples\": [],\n        \"semantic_type\": \"\",\n        \"description\": \"\"\n      }\n    },\n    {\n      \"column\": \"Project Description and Scope\",\n      \"properties\": {\n        \"dtype\": \"string\",\n        \"num_unique_values\": 1,\n        \"samples\": [],\n        \"semantic_type\": \"\",\n        \"description\": \"\"\n      }\n    },\n    {\n      \"column\": \"Desired Outcomes and Deliverables (Non-confidential)\",\n      \"properties\": {\n        \"dtype\": \"string\",\n        \"num_unique_values\": 1,\n        \"samples\": [],\n        \"semantic_type\": \"\",\n        \"description\": \"\"\n      }\n    },\n    {\n      \"column\": \"Unnamed: 12\",\n      \"properties\": {\n        \"dtype\": \"number\",\n        \"std\": null,\n        \"min\": null,\n        \"max\": null,\n        \"num_unique_values\": 0,\n        \"samples\": [],\n        \"semantic_type\": \"\",\n        \"description\": \"\"\n      }\n    },\n    {\n      \"column\": \"Unnamed: 13\",\n      \"properties\": {\n        \"dtype\": \"number\",\n        \"std\": null,\n        \"min\": null,\n        \"max\": null,\n        \"num_unique_values\": 0,\n        \"samples\": [],\n        \"semantic_type\": \"\",\n        \"description\": \"\"\n      }\n    },\n    {\n      \"column\": \"Unnamed: 14\",\n      \"properties\": {\n        \"dtype\": \"number\",\n        \"std\": null,\n        \"min\": null,\n        \"max\": null,\n        \"num_unique_values\": 0,\n        \"samples\": [],\n        \"semantic_type\": \"\",\n        \"description\": \"\"\n      }\n    },\n    {\n      \"column\": \"Min's Notes after Meetings with Sponsors\",\n      \"properties\": {\n        \"dtype\": \"string\",\n        \"num_unique_values\": 1,\n        \"samples\": [],\n        \"semantic_type\": \"\",\n        \"description\": \"\"\n      }\n    },\n    {\n      \"column\": \"Stage 2, Fellow sign up (Names)\",\n      \"properties\": {\n        \"dtype\": \"string\",\n        \"num_unique_values\": 1,\n        \"samples\": [],\n        \"semantic_type\": \"\",\n        \"description\": \"\"\n      }\n    },\n    {\n      \"column\": \"Total Members\",\n      \"properties\": {\n        \"dtype\": \"number\",\n        \"std\": null,\n        \"min\": 4,\n        \"max\": 4,\n        \"num_unique_values\": 1,\n        \"samples\": [],\n        \"semantic_type\": \"\",\n        \"description\": \"\"\n      }\n    }\n  ]\n}"
            }
          },
          "metadata": {},
          "execution_count": 94
        }
      ]
    },
    {
      "cell_type": "code",
      "source": [],
      "metadata": {
        "id": "XFSsU3o86480"
      },
      "execution_count": null,
      "outputs": []
    }
  ]
}